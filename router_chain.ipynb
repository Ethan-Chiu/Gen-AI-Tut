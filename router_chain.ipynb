{
 "cells": [
  {
   "cell_type": "code",
   "execution_count": 1,
   "metadata": {},
   "outputs": [
    {
     "data": {
      "text/plain": [
       "True"
      ]
     },
     "execution_count": 1,
     "metadata": {},
     "output_type": "execute_result"
    }
   ],
   "source": [
    "# import os\n",
    "# os.environ[\"GOOGLE_API_KEY\"] = \"\"\n",
    "# os.environ[\"ANTHROPIC_API_KEY\"] = \"\"\n",
    "# os.environ[\"LANGCHAIN_TRACING_V2\"] = \"\"\n",
    "# os.environ[\"LANGCHAIN_API_KEY\"]=\"\"\n",
    "\n",
    "from dotenv import load_dotenv\n",
    "load_dotenv()"
   ]
  },
  {
   "cell_type": "markdown",
   "metadata": {},
   "source": [
    "## Prompts"
   ]
  },
  {
   "cell_type": "code",
   "execution_count": 2,
   "metadata": {},
   "outputs": [],
   "source": [
    "environmental_template = \"\"\"You are a passionate environmentalist with a deep understanding of ecological systems and sustainability principles. \\\n",
    "You excel at providing insightful explanations and solutions related to environmental issues in a clear and engaging manner. \\\n",
    "When faced with a question outside your expertise, you gracefully acknowledge your limitations.\\\n",
    "\n",
    "Answer the following question based on the provided context:\n",
    "\n",
    "<context>\n",
    "{context}\n",
    "</context>\n",
    "\n",
    "Here is the question:\n",
    "{input}\"\"\"\n",
    "\n",
    "education_template = \"\"\"You are an enthusiastic and knowledgeable educator with a profound understanding of pedagogy and learning principles. \\\n",
    "You are adept at delivering comprehensive explanations and fostering engaging learning experiences. \n",
    "\n",
    "Answer the following question with the provided context.\n",
    "\n",
    "<context>\n",
    "{context}\n",
    "</context>\n",
    "\n",
    "Here is the question:\n",
    "{input}\"\"\""
   ]
  },
  {
   "cell_type": "code",
   "execution_count": 3,
   "metadata": {},
   "outputs": [],
   "source": [
    "prompt_infos = [\n",
    "{\n",
    "    \"name\": \"environmentalist\",\n",
    "    \"description\": \"Ideal for addressing environmental concerns and offering insightful solutions\",\n",
    "    \"prompt_template\": environmental_template,\n",
    "},\n",
    "{\n",
    "    \"name\": \"education\", \n",
    "    \"description\": \"Good for answering questions related to education or study or 早自習\", \n",
    "    \"prompt_template\": education_template,\n",
    "}]"
   ]
  },
  {
   "cell_type": "code",
   "execution_count": 5,
   "metadata": {},
   "outputs": [],
   "source": [
    "MULTI_PROMPT_ROUTER_TEMPLATE = \"\"\"\n",
    "你是一個router，你的工作是分析input的問題與甚麼領域有關，\\\n",
    "當問題不清楚時適當修改問題，接著把問題傳遞給適當的language model.\\\n",
    "你會得到所有可以選擇的language model名稱及它們擅長哪個領域的問題。\\\n",
    "\n",
    "You can also use the history messages provided here to make your decision.\n",
    "<< HISTORY >>\n",
    "{{history}}\n",
    "\n",
    "<< INPUT >>\n",
    "{{input}}\n",
    "\n",
    "\n",
    "<< FORMATTING >>\n",
    "Return a markdown code snippet with a JSON object formatted to look like:\n",
    "\n",
    "\\```json\n",
    "{{{{\n",
    "    \"destination\": string \\ name of the prompt to use or \"DEFAULT\"\n",
    "    \"next_inputs\": string \\ summary of the history relevant to the topic of input\n",
    "}}}}\n",
    "\\```\n",
    "\n",
    "REMEMBER: \"destination\" MUST be one of the candidate prompt \\\n",
    "names specified below OR it can be \"DEFAULT\" if the input is completely\\\n",
    "unrelated to any of the candidate prompts.\n",
    "REMEMBER: \"next_inputs\" should contain a concise summary of the history to provide context for the input.\n",
    "\n",
    "\n",
    "<< CANDIDATE PROMPTS >>\n",
    "{destinations}\n",
    "\n",
    "<< INPUT >>\n",
    "{{input}}\n",
    "\n",
    "<< OUTPUT (remember to include the ```json)>>\"\"\""
   ]
  },
  {
   "cell_type": "markdown",
   "metadata": {},
   "source": [
    "## LLM"
   ]
  },
  {
   "cell_type": "code",
   "execution_count": 6,
   "metadata": {},
   "outputs": [
    {
     "name": "stderr",
     "output_type": "stream",
     "text": [
      "c:\\Users\\ethan\\miniconda3\\envs\\genai-course\\lib\\site-packages\\tqdm\\auto.py:21: TqdmWarning: IProgress not found. Please update jupyter and ipywidgets. See https://ipywidgets.readthedocs.io/en/stable/user_install.html\n",
      "  from .autonotebook import tqdm as notebook_tqdm\n"
     ]
    }
   ],
   "source": [
    "from langchain_google_genai import ChatGoogleGenerativeAI\n",
    "from langchain_openai import ChatOpenAI\n",
    "from langchain_anthropic import ChatAnthropic\n",
    "\n",
    "gemini = ChatGoogleGenerativeAI(temperature=0, model=\"gemini-pro\", convert_system_message_to_human=True)\n",
    "claude = ChatAnthropic(temperature=0,  model_name=\"claude-3-haiku-20240307\")\n",
    "# openai = ChatOpenAI()"
   ]
  },
  {
   "cell_type": "markdown",
   "metadata": {},
   "source": [
    "## Document loader & text splitter"
   ]
  },
  {
   "cell_type": "code",
   "execution_count": 7,
   "metadata": {},
   "outputs": [],
   "source": [
    "from langchain_community.document_loaders.web_base import WebBaseLoader\n",
    "from langchain_text_splitters import RecursiveCharacterTextSplitter\n",
    "from langchain_community.vectorstores.chroma import Chroma\n",
    "from langchain_community.embeddings.sentence_transformer import (\n",
    "    SentenceTransformerEmbeddings,\n",
    ")\n",
    "from langchain.chains.combine_documents import create_stuff_documents_chain\n",
    "from langchain.chains.retrieval import create_retrieval_chain\n",
    "\n",
    "loader = WebBaseLoader(\"https://docs.smith.langchain.com/user_guide\")\n",
    "docs = loader.load()\n",
    "\n",
    "\n",
    "text_splitter = RecursiveCharacterTextSplitter()\n",
    "documents = text_splitter.split_documents(docs)\n",
    "\n",
    "embedding_function = SentenceTransformerEmbeddings(model_name=\"all-MiniLM-L6-v2\")\n",
    "vector = Chroma.from_documents(documents, embedding_function)"
   ]
  },
  {
   "cell_type": "code",
   "execution_count": null,
   "metadata": {},
   "outputs": [],
   "source": [
    "vector.delete_collection()"
   ]
  },
  {
   "cell_type": "markdown",
   "metadata": {},
   "source": [
    "## Destinations"
   ]
  },
  {
   "cell_type": "code",
   "execution_count": 8,
   "metadata": {},
   "outputs": [],
   "source": [
    "from langchain.prompts import PromptTemplate, ChatPromptTemplate, HumanMessagePromptTemplate, SystemMessagePromptTemplate"
   ]
  },
  {
   "cell_type": "code",
   "execution_count": 9,
   "metadata": {},
   "outputs": [],
   "source": [
    "prompt = ChatPromptTemplate.from_template(template=environmental_template)\n",
    "\n",
    "document_chain = create_stuff_documents_chain(claude, prompt)\n",
    "retriever = vector.as_retriever(search_kwargs={\"k\": 1})\n",
    "\n",
    "enviromental_chain = create_retrieval_chain(retriever, document_chain)"
   ]
  },
  {
   "cell_type": "code",
   "execution_count": 10,
   "metadata": {},
   "outputs": [],
   "source": [
    "prompt = ChatPromptTemplate.from_template(template=education_template)\n",
    "\n",
    "document_chain = create_stuff_documents_chain(claude, prompt)\n",
    "retriever = vector.as_retriever(search_kwargs={\"k\": 1})\n",
    "\n",
    "education_chain = create_retrieval_chain(retriever, document_chain)"
   ]
  },
  {
   "cell_type": "code",
   "execution_count": 11,
   "metadata": {},
   "outputs": [],
   "source": [
    "from langchain_core.runnables import RunnablePassthrough\n",
    "from langchain_core.output_parsers import StrOutputParser\n",
    "\n",
    "general_chain = RunnablePassthrough.assign(\n",
    "    answer=(ChatPromptTemplate.from_template(\"{history} {input}\") | claude | StrOutputParser())\n",
    ")"
   ]
  },
  {
   "cell_type": "markdown",
   "metadata": {},
   "source": [
    "## Route to Destination"
   ]
  },
  {
   "cell_type": "code",
   "execution_count": 12,
   "metadata": {},
   "outputs": [],
   "source": [
    "def route(info):\n",
    "    print(info)\n",
    "    if info[\"destination\"]:\n",
    "        if \"environmentalist\" in info[\"destination\"].lower():\n",
    "            return enviromental_chain\n",
    "        elif \"education\" in info[\"destination\"].lower():\n",
    "            return education_chain\n",
    "    else:\n",
    "        return general_chain"
   ]
  },
  {
   "cell_type": "code",
   "execution_count": 13,
   "metadata": {},
   "outputs": [],
   "source": [
    "destinations = [f\"{p['name']}: {p['description']}\" for p in prompt_infos]\n",
    "destinations_str = \"\\n\".join(destinations)\n",
    "\n",
    "# destinations\n",
    "# ['physics: Good for answering questions about physics',\n",
    "#  'math: Good for answering math questions']\n",
    "\n",
    "router_system_template = PromptTemplate.from_template(MULTI_PROMPT_ROUTER_TEMPLATE)\n",
    "router_system_template = router_system_template.format(destinations=destinations_str)\n",
    "\n",
    "router_system_template = HumanMessagePromptTemplate.from_template(router_system_template)"
   ]
  },
  {
   "cell_type": "markdown",
   "metadata": {},
   "source": [
    "## Memory "
   ]
  },
  {
   "cell_type": "code",
   "execution_count": 14,
   "metadata": {},
   "outputs": [
    {
     "data": {
      "text/plain": [
       "{'history': ''}"
      ]
     },
     "execution_count": 14,
     "metadata": {},
     "output_type": "execute_result"
    }
   ],
   "source": [
    "from langchain.memory import ConversationBufferMemory\n",
    "from langchain_core.prompts import MessagesPlaceholder\n",
    "\n",
    "memory = ConversationBufferMemory(llm=gemini, max_token_limit=1024, ai_prefix=\"\")\n",
    "memory.load_memory_variables({})"
   ]
  },
  {
   "cell_type": "code",
   "execution_count": 15,
   "metadata": {},
   "outputs": [],
   "source": [
    "router_prompt = ChatPromptTemplate.from_messages(\n",
    "    [\n",
    "        # MessagesPlaceholder(variable_name=\"history\", optional=True), # Put history into router llm ???\n",
    "        router_system_template,\n",
    "    ]\n",
    ")"
   ]
  },
  {
   "cell_type": "markdown",
   "metadata": {},
   "source": [
    "## Build Chain"
   ]
  },
  {
   "cell_type": "code",
   "execution_count": 16,
   "metadata": {},
   "outputs": [],
   "source": [
    "from langchain_core.runnables import RunnablePassthrough, RunnableLambda\n",
    "from langchain.chains.router.llm_router import RouterOutputParser\n",
    "from operator import itemgetter\n",
    "\n",
    "router_chain = (\n",
    "    RunnablePassthrough.assign(\n",
    "        history=RunnableLambda(memory.load_memory_variables) | itemgetter(\"history\")\n",
    "    )\n",
    "    | router_prompt\n",
    "    | claude\n",
    "    | RouterOutputParser()\n",
    "    | {\"destination\": itemgetter(\"destination\"), \"next_inputs\": lambda x: x[\"next_inputs\"]['input']} \n",
    ")"
   ]
  },
  {
   "cell_type": "code",
   "execution_count": 17,
   "metadata": {},
   "outputs": [],
   "source": [
    "\n",
    "full_chain = (\n",
    "    RunnablePassthrough.assign(\n",
    "        route=router_chain\n",
    "    )\n",
    "    | { \n",
    "        \"destination\": lambda x: x[\"route\"][\"destination\"], \n",
    "        \"input\": lambda x: f'{x[\"route\"][\"next_inputs\"]}\\n{x[\"input\"]}'\n",
    "    } \n",
    "    | RunnablePassthrough.assign(\n",
    "        history=RunnableLambda(memory.load_memory_variables) | itemgetter(\"history\")\n",
    "    ) \n",
    "    | RunnableLambda(route)\n",
    ") "
   ]
  },
  {
   "cell_type": "markdown",
   "metadata": {},
   "source": [
    "## Usage"
   ]
  },
  {
   "cell_type": "code",
   "execution_count": 18,
   "metadata": {},
   "outputs": [],
   "source": [
    "from api.server import Server\n",
    "from api.manager import Manager\n",
    "from api.models.match import Match\n",
    "\n",
    "server = Server(\"http://localhost:3000\", \"0929b6b4-1657-41db-a109-c33bc23abbb0\")\n",
    "manager = Manager(server)"
   ]
  },
  {
   "cell_type": "code",
   "execution_count": 19,
   "metadata": {},
   "outputs": [
    {
     "name": "stdout",
     "output_type": "stream",
     "text": [
      "all matches:\n",
      "Match ID: 1, Name: testgame, Players: [], History Messages: []\n",
      "Match ID: 2, Name: testgame, Players: [], History Messages: []\n",
      "--------------------------------------------------------------------------------\n"
     ]
    }
   ],
   "source": [
    "print(\"all matches:\")\n",
    "matches = manager.get_match_list()\n",
    "for match in matches:\n",
    "    print(match)\n",
    "print(\"-\" * 80)\n",
    "manager.set_current_match(2)"
   ]
  },
  {
   "cell_type": "code",
   "execution_count": 20,
   "metadata": {},
   "outputs": [
    {
     "name": "stdout",
     "output_type": "stream",
     "text": [
      "current history:\n"
     ]
    }
   ],
   "source": [
    "print(\"current history:\")\n",
    "match = manager.get_current_match()\n",
    "for msg in match.history_msgs:\n",
    "    print(msg)"
   ]
  },
  {
   "cell_type": "code",
   "execution_count": 21,
   "metadata": {},
   "outputs": [],
   "source": [
    "memory.clear()"
   ]
  },
  {
   "cell_type": "code",
   "execution_count": 22,
   "metadata": {},
   "outputs": [],
   "source": [
    "inputs = []\n",
    "\n",
    "inputs.append({\"input\": \n",
    "\"\"\"兩位參賽者進行辯論比賽，今天的討論議題是支不支持廢除早自習?\n",
    "正方：支持廢除早自習\n",
    "反方：反對廢除早自習\n",
    "\n",
    "作為正方，請堅守支持廢除早自習的立場，並簡明扼要地陳述正方的意見和理由。\n",
    "正方:\"\"\"})\n",
    "\n",
    "inputs.append({\"input\": \n",
    "\"\"\"作為反方，請堅守反對廢除早自習的立場，簡明扼要地陳述你的意見和理由。\n",
    "反方:\"\"\"\n",
    "})\n",
    "\n",
    "inputs.append({\"input\": \n",
    "\"\"\"作為正方，請堅守支持廢除早自習的立場。請針對反對方所發表的意見，進行反駁。\n",
    "正方:\"\"\"})\n",
    "\n",
    "inputs.append({\"input\": \n",
    "\"\"\"作為反方，請堅守反對廢除早自習的立場。請針對正方所發表的意見，進行反駁。\n",
    "反方:\"\"\"})"
   ]
  },
  {
   "cell_type": "code",
   "execution_count": 24,
   "metadata": {},
   "outputs": [
    {
     "name": "stdout",
     "output_type": "stream",
     "text": [
      "[{'input': '兩位參賽者進行辯論比賽，今天的討論議題是支不支持廢除早自習?\\n正方：支持廢除早自習\\n反方：反對廢除早自習\\n\\n作為正方，請堅守支持廢除早自習的立場，並簡明扼要地陳述正方的意見和理由。\\n正方:'}, {'input': '作為反方，請堅守反對廢除早自習的立場，簡明扼要地陳述你的意見和理由。\\n反方:'}, {'input': '作為正方，請堅守支持廢除早自習的立場。請針對反對方所發表的意見，進行反駁。\\n正方:'}, {'input': '作為反方，請堅守反對廢除早自習的立場。請針對正方所發表的意見，進行反駁。\\n反方:'}]\n"
     ]
    }
   ],
   "source": [
    "print(inputs)"
   ]
  },
  {
   "cell_type": "code",
   "execution_count": 30,
   "metadata": {},
   "outputs": [
    {
     "name": "stdout",
     "output_type": "stream",
     "text": [
      "{'destination': 'education', 'input': 'The input is about a debate on whether to abolish early self-study (早自習) in schools. The affirmative side (正方) argues in favor of abolishing early self-study, while the negative side (反方) opposes abolishing it. The affirmative side has presented their arguments supporting the abolition of early self-study.\\n兩位參賽者進行辯論比賽，今天的討論議題是支不支持廢除早自習?\\n正方：支持廢除早自習\\n反方：反對廢除早自習\\n\\n作為正方，請堅守支持廢除早自習的立場，並簡明扼要地陳述正方的意見和理由。\\n正方:', 'history': 'Human: 兩位參賽者進行辯論比賽，今天的討論議題是支不支持廢除早自習?\\n正方：支持廢除早自習\\n反方：反對廢除早自習\\n\\n作為正方，請堅守支持廢除早自習的立場，並簡明扼要地陳述正方的意見和理由。\\n正方:\\n: 尊敬的觀眾朋友們,大家好!作為支持廢除早自習的正方,我們有以下幾點理由:\\n\\n首先,早自習對學生的身心健康造成了負面影響。長時間的早起和自主學習,會導致學生睡眠不足、精神疲憊,影響學習效率和課堂表現。過度的學習壓力也可能引發焦慮和抑鬱等心理問題。我們應該關注學生的整體發展,而不是單純追求成績。\\n\\n其次,早自習並不能真正提高學習效果。許多學生在早自習時間缺乏集中注意力,效率低下。相反,適當的休息和娛樂活動,反而有助於提高學習興趣和效率。我們應該鼓勵學生養成良好的學習習慣,而不是強迫他們在早晨進行機械式的自主學習。\\n\\n最後,取消早自習可以為學生騰出更多自由時間,讓他們有機會參與其他有益的課外活動,如運動、音樂、社交等。這些活動不僅有助於身心健康,也有利於培養學生的全面素質。\\n\\n綜上所述,我們認為廢除早自習是一個明智的決定,能夠更好地照顧學生的需求,促進他們的全面發展。讓我們共同為學生創造更加健康、快樂的學習環境。\\nHuman: 兩位參賽者進行辯論比賽，今天的討論議題是支不支持廢除早自習?\\n正方：支持廢除早自習\\n反方：反對廢除早自習\\n\\n作為正方，請堅守支持廢除早自習的立場，並簡明扼要地陳述正方的意見和理由。\\n正方:\\n: 作為正方,我們堅定地支持廢除早自習。我們認為,早自習對學生的身心發展都有負面影響,應該被取消。\\n\\n首先,早自習會加重學生的學習負擔。大多數學生在上午上課後,還需要在課前花費大量時間自習,這會讓他們感到疲憊和壓力,影響上課的專注力和學習效果。\\n\\n其次,早自習會侵犯學生的休息時間。學生應該有充足的睡眠和娛樂時間,以維持身心健康。但早自習卻佔用了他們寶貴的休息時間,這對學生的成長不利。\\n\\n再者,早自習並不能真正提高學習效率。相反,過度的自習反而會降低學習興趣,影響學習效果。我們應該鼓勵學生在課堂上專注學習,並合理安排課後的自主學習時間。\\n\\n總之,早自習給學生帶來了過大的學習負擔和生活壓力,不利於學生的全面發展。因此,我們堅決支持廢除早自習,讓學生擁有更多自主支配時間,以更好地平衡學習和生活。\\nHuman: 兩位參賽者進行辯論比賽，今天的討論議題是支不支持廢除早自習?\\n正方：支持廢除早自習\\n反方：反對廢除早自習\\n\\n作為正方，請堅守支持廢除早自習的立場，並簡明扼要地陳述正方的意見和理由。\\n正方:\\n: 作為正方,我們堅持支持廢除早自習的立場,並提出以下幾點理由:\\n\\n1. 早自習對學生的身心健康造成負擔。長時間的自習會增加學生的壓力和焦慮,影響他們的睡眠和休息時間,從而影響身心發展。\\n\\n2. 早自習時間可以用於其他更有意義的活動。比如增加體育鍛煉、參與社團活動、與家人相處等,這些都有助於培養學生的全面發展。\\n\\n3. 早自習並非必要的學習方式。許多國家和地區的學校都沒有早自習,學生依然能夠取得良好的學習成績。我們應該尊重學生的個體差異,給予他們更多自主學習的空間。\\n\\n4. 早自習會加重教師的工作負擔。教師需要在早自習時間內監督學生,這會影響他們的備課和其他教學任務。我們應該讓教師有更多精力投入到教學本身,提高教學質量。\\n\\n綜上所述,我們認為廢除早自習是一個明智的決定,能夠更好地照顧學生的身心需求,提升教育質量。我們呼籲學校和相關部門重視這一問題,為學生創造更好的學習環境。\\nHuman: 兩位參賽者進行辯論比賽，今天的討論議題是支不支持廢除早自習?\\n正方：支持廢除早自習\\n反方：反對廢除早自習\\n\\n作為正方，請堅守支持廢除早自習的立場，並簡明扼要地陳述正方的意見和理由。\\n正方:\\n: 作為正方,我們堅定地支持廢除早自習制度。以下是我們的主要論點:\\n\\n1. 早自習對學生的身心健康造成負面影響。長時間的早自習會導致學生睡眠不足、壓力過大,影響身心發展。學生應該有充足的睡眠和休息時間,以維持良好的身心狀態。\\n\\n2. 早自習效果不佳,無法顯著提高學習成績。大量研究顯示,早自習時間並不能真正提高學生的學習效果和成績。相反,將這些時間用於其他有益活動,如運動、興趣培養等,會更有助於學生的全面發展。\\n\\n3. 早自習佔用了寶貴的時間,造成機會成本。學生應該有更多時間用於課外活動、家庭生活和個人興趣,而不是被迫長時間進行早自習。這些活動對學生的成長同樣重要。\\n\\n綜上所述,我們認為廢除早自習制度是一個明智的決定。這不僅有利於學生的身心健康,也能讓他們有更多機會全面發展,獲得更好的學習成果。我們呼籲相關部門認真考慮這一建議,為學生創造更好的學習環境。\\nHuman: 作為反方，請堅守反對廢除早自習的立場，簡明扼要地陳述你的意見和理由。\\n反方:\\n: 作為反方,我堅持保留早自習制度的立場,並簡明扼要地陳述以下理由:\\n\\n1. 培養自主學習能力:早自習為學生提供了一個專注學習的環境,有助於培養他們的自主學習能力。在這段時間內,學生可以自主規劃學習內容和進度,培養自我管理和自我激勵的習慣,這些都是未來學習和工作中所需的重要技能。\\n\\n2. 建立良好的學習習慣:早自習能夠幫助學生養成良好的學習習慣,如制定學習計劃、合理安排時間等。這些習慣的養成不僅有利於學業成績的提升,也為學生未來的終身學習奠定了基礎。\\n\\n3. 提高學習效率:早自習為學生創造了一個相對安靜、集中的學習環境,有助於提高學習效率。學生可以在這段時間內專注地完成作業、預習或複習,減少外界干擾,從而取得更好的學習成果。\\n\\n4. 調節作息時間:早自習能夠幫助學生養成良好的作息習慣,合理安排學習、休息和娛樂的時間。這對於學生的身心健康發展都有積極的影響。\\n\\n綜上所述,早自習制度對於培養學生的自主學習能力、建立良好的學習習慣、提高學習效率以及調節作息時間等方面都有重要的作用。因此,我堅持保留早自習制度,以促進學生全面而健康的成長。\\nHuman: 作為正方，請堅守支持廢除早自習的立場。請針對反對方所發表的意見，進行反駁。\\n正方:\\n: 作為正方,我們必須堅定地反對早自習制度。雖然反對方提出了一些看似合理的論點,但我們仍有充分的理由來駁斥他們的觀點。\\n\\n首先,反對方認為早自習有助於培養學生的自主學習能力和良好的學習習慣。然而,我們必須認識到,學生在這個年齡段的自我管理能力和自律性還有待進一步發展。過早地要求他們自主學習,反而可能造成壓力和焦慮,阻礙了他們健康的成長。相反,我們應該提供更多的指導和支持,幫助學生逐步培養自主學習的能力。\\n\\n其次,反對方聲稱早自習可以提高學習效率。但事實上,過度的自習時間並不能保證學習效果的提升。相反,過長的自習時間可能會導致學生注意力下降、學習效率降低。我們應該鼓勵學生合理安排學習時間,並在課堂上進行有效的互動教學,以確保學習效果。\\n\\n最後,反對方認為早自習有助於規範學生的作息。然而,我們必須考慮到學生的身心健康。過早起床和長時間的自習,會對學生的睡眠、營養和運動等方面造成不利影響,從而影響他們的身心發展。我們應該為學生提供更加合理的作息安排,確保他們有足夠的休息和娛樂時間。\\n\\n綜上所述,早自習制度並不能真正提高學習效果,反而可能對學生的身心健康造成負面影響。因此,我們堅持廢除早自習制度,為學生創造更加健康、快樂的學習環境。'}\n",
      "作為正方,我們堅持支持廢除早自習的立場,並提出以下幾點理由:\n",
      "\n",
      "1. 早自習對學生的身心健康造成負擔。長時間的自習會增加學生的壓力和焦慮,影響他們的睡眠和休息,從而影響身心發展。我們應該給學生更多的自由時間,讓他們有機會參與其他有益的活動,如運動、興趣小組等,以促進全面發展。\n",
      "\n",
      "2. 早自習並非最有效的學習方式。學生在早自習時往往缺乏老師的指導和互動,很難保證學習效果。相反,上課時老師的講解和課堂討論更有助於知識的吸收和理解。我們應該把有限的時間用在更有價值的教學活動上。\n",
      "\n",
      "3. 早自習會加重學生的學習負擔。學生在上課、完成作業、參加課外活動之外,還要花大量時間在早自習上,這對他們來說是一種過度的要求。我們應該減輕學生的學習壓力,讓他們有更多時間休息和娛樂。\n",
      "\n",
      "4. 早自習並非所有學生都需要。不同學生的學習能力和需求各不相同,強制性的早自習並不能照顧到每個學生的個別差異。我們應該根據學生的實際情況,採取更靈活的教學方式。\n",
      "\n",
      "綜上所述,我們認為廢除早自習是一個明智的決定,能夠更好地促進學生的全面發展。我們呼籲大家支持這一改革,共同為學生創造更好的學習環境。\n",
      "Message sent successfully.\n",
      "作為反方,我堅持反對廢除早自習的立場,並簡明扼要地陳述我的意見和理由:\n",
      "\n",
      "1. 早自習有助於培養學生的自主學習能力。在早自習時段,學生可以自主安排學習時間,選擇自己感興趣的內容進行預習和複習。這種自主學習的過程,有助於培養學生的自我管理能力、時間管理能力和主動學習的習慣,為他們未來的學習和工作奠定良好的基礎。\n",
      "\n",
      "2. 早自習有助於提高學習效率。在早晨大腦活動較為活躍的時段進行學習,可以提高學生的集中力和記憶力,使他們能夠更好地吸收和理解知識。相比之下,在下午或晚上進行學習,學生可能會因疲勞而影響學習效果。\n",
      "\n",
      "3. 早自習有助於養成良好的作息習慣。規律的早自習時間能夠幫助學生養成早睡早起的良好作息習慣,從而保證充足的睡眠時間,有利於身心健康的發展。相反,如果取消早自習,學生可能會延遲起床時間,影響作息,最終也會對身心健康造成不利影響。\n",
      "\n",
      "總之,早自習是一個良好的教育實踐,有助於培養學生的自主學習能力、提高學習效率,並養成良好的作息習慣。因此,我堅決反對廢除早自習制度。\n",
      "{'destination': 'education', 'input': \"The debate is about whether to abolish the early morning self-study (早自習) period in schools. The opposing side argues that early self-study helps cultivate students' self-learning abilities, improve learning efficiency, and develop good study habits. The supporting side needs to refute these points.\\n作為正方，請堅守支持廢除早自習的立場。請針對反對方所發表的意見，進行反駁。\\n正方:\", 'history': 'Human: 兩位參賽者進行辯論比賽，今天的討論議題是支不支持廢除早自習?\\n正方：支持廢除早自習\\n反方：反對廢除早自習\\n\\n作為正方，請堅守支持廢除早自習的立場，並簡明扼要地陳述正方的意見和理由。\\n正方:\\n: 尊敬的觀眾朋友們,大家好!作為支持廢除早自習的正方,我們有以下幾點理由:\\n\\n首先,早自習對學生的身心健康造成了負面影響。長時間的早起和自主學習,會導致學生睡眠不足、精神疲憊,影響學習效率和課堂表現。過度的學習壓力也可能引發焦慮和抑鬱等心理問題。我們應該關注學生的整體發展,而不是單純追求成績。\\n\\n其次,早自習並不能真正提高學習效果。許多學生在早自習時間缺乏集中注意力,效率低下。相反,適當的休息和娛樂活動,反而有助於提高學習興趣和效率。我們應該鼓勵學生養成良好的學習習慣,而不是強迫他們在早晨進行機械式的自主學習。\\n\\n最後,取消早自習可以為學生騰出更多自由時間,讓他們有機會參與其他有益的課外活動,如運動、音樂、社交等。這些活動不僅有助於身心健康,也有利於培養學生的全面素質。\\n\\n綜上所述,我們認為廢除早自習是一個明智的決定,能夠更好地照顧學生的需求,促進他們的全面發展。讓我們共同為學生創造更加健康、快樂的學習環境。\\nHuman: 兩位參賽者進行辯論比賽，今天的討論議題是支不支持廢除早自習?\\n正方：支持廢除早自習\\n反方：反對廢除早自習\\n\\n作為正方，請堅守支持廢除早自習的立場，並簡明扼要地陳述正方的意見和理由。\\n正方:\\n: 作為正方,我們堅定地支持廢除早自習。我們認為,早自習對學生的身心發展都有負面影響,應該被取消。\\n\\n首先,早自習會加重學生的學習負擔。大多數學生在上午上課後,還需要在課前花費大量時間自習,這會讓他們感到疲憊和壓力,影響上課的專注力和學習效果。\\n\\n其次,早自習會侵犯學生的休息時間。學生應該有充足的睡眠和娛樂時間,以維持身心健康。但早自習卻佔用了他們寶貴的休息時間,這對學生的成長不利。\\n\\n再者,早自習並不能真正提高學習效率。相反,過度的自習反而會降低學習興趣,影響學習效果。我們應該鼓勵學生在課堂上專注學習,並合理安排課後的自主學習時間。\\n\\n總之,早自習給學生帶來了過大的學習負擔和生活壓力,不利於學生的全面發展。因此,我們堅決支持廢除早自習,讓學生擁有更多自主支配時間,以更好地平衡學習和生活。\\nHuman: 兩位參賽者進行辯論比賽，今天的討論議題是支不支持廢除早自習?\\n正方：支持廢除早自習\\n反方：反對廢除早自習\\n\\n作為正方，請堅守支持廢除早自習的立場，並簡明扼要地陳述正方的意見和理由。\\n正方:\\n: 作為正方,我們堅持支持廢除早自習的立場,並提出以下幾點理由:\\n\\n1. 早自習對學生的身心健康造成負擔。長時間的自習會增加學生的壓力和焦慮,影響他們的睡眠和休息時間,從而影響身心發展。\\n\\n2. 早自習時間可以用於其他更有意義的活動。比如增加體育鍛煉、參與社團活動、與家人相處等,這些都有助於培養學生的全面發展。\\n\\n3. 早自習並非必要的學習方式。許多國家和地區的學校都沒有早自習,學生依然能夠取得良好的學習成績。我們應該尊重學生的個體差異,給予他們更多自主學習的空間。\\n\\n4. 早自習會加重教師的工作負擔。教師需要在早自習時間內監督學生,這會影響他們的備課和其他教學任務。我們應該讓教師有更多精力投入到教學本身,提高教學質量。\\n\\n綜上所述,我們認為廢除早自習是一個明智的決定,能夠更好地照顧學生的身心需求,提升教育質量。我們呼籲學校和相關部門重視這一問題,為學生創造更好的學習環境。\\nHuman: 兩位參賽者進行辯論比賽，今天的討論議題是支不支持廢除早自習?\\n正方：支持廢除早自習\\n反方：反對廢除早自習\\n\\n作為正方，請堅守支持廢除早自習的立場，並簡明扼要地陳述正方的意見和理由。\\n正方:\\n: 作為正方,我們堅定地支持廢除早自習制度。以下是我們的主要論點:\\n\\n1. 早自習對學生的身心健康造成負面影響。長時間的早自習會導致學生睡眠不足、壓力過大,影響身心發展。學生應該有充足的睡眠和休息時間,以維持良好的身心狀態。\\n\\n2. 早自習效果不佳,無法顯著提高學習成績。大量研究顯示,早自習時間並不能真正提高學生的學習效果和成績。相反,將這些時間用於其他有益活動,如運動、興趣培養等,會更有助於學生的全面發展。\\n\\n3. 早自習佔用了寶貴的時間,造成機會成本。學生應該有更多時間用於課外活動、家庭生活和個人興趣,而不是被迫長時間進行早自習。這些活動對學生的成長同樣重要。\\n\\n綜上所述,我們認為廢除早自習制度是一個明智的決定。這不僅有利於學生的身心健康,也能讓他們有更多機會全面發展,獲得更好的學習成果。我們呼籲相關部門認真考慮這一建議,為學生創造更好的學習環境。\\nHuman: 作為反方，請堅守反對廢除早自習的立場，簡明扼要地陳述你的意見和理由。\\n反方:\\n: 作為反方,我堅持保留早自習制度的立場,並簡明扼要地陳述以下理由:\\n\\n1. 培養自主學習能力:早自習為學生提供了一個專注學習的環境,有助於培養他們的自主學習能力。在這段時間內,學生可以自主規劃學習內容和進度,培養自我管理和自我激勵的習慣,這些都是未來學習和工作中所需的重要技能。\\n\\n2. 建立良好的學習習慣:早自習能夠幫助學生養成良好的學習習慣,如制定學習計劃、合理安排時間等。這些習慣的養成不僅有利於學業成績的提升,也為學生未來的終身學習奠定了基礎。\\n\\n3. 提高學習效率:早自習為學生創造了一個相對安靜、集中的學習環境,有助於提高學習效率。學生可以在這段時間內專注地完成作業、預習或複習,減少外界干擾,從而取得更好的學習成果。\\n\\n4. 調節作息時間:早自習能夠幫助學生養成良好的作息習慣,合理安排學習、休息和娛樂的時間。這對於學生的身心健康發展都有積極的影響。\\n\\n綜上所述,早自習制度對於培養學生的自主學習能力、建立良好的學習習慣、提高學習效率以及調節作息時間等方面都有重要的作用。因此,我堅持保留早自習制度,以促進學生全面而健康的成長。\\nHuman: 作為正方，請堅守支持廢除早自習的立場。請針對反對方所發表的意見，進行反駁。\\n正方:\\n: 作為正方,我們必須堅定地反對早自習制度。雖然反對方提出了一些看似合理的論點,但我們仍有充分的理由來駁斥他們的觀點。\\n\\n首先,反對方認為早自習有助於培養學生的自主學習能力和良好的學習習慣。然而,我們必須認識到,學生在這個年齡段的自我管理能力和自律性還有待進一步發展。過早地要求他們自主學習,反而可能造成壓力和焦慮,阻礙了他們健康的成長。相反,我們應該提供更多的指導和支持,幫助學生逐步培養自主學習的能力。\\n\\n其次,反對方聲稱早自習可以提高學習效率。但事實上,過度的自習時間並不能保證學習效果的提升。相反,過長的自習時間可能會導致學生注意力下降、學習效率降低。我們應該鼓勵學生合理安排學習時間,並在課堂上進行有效的互動教學,以確保學習效果。\\n\\n最後,反對方認為早自習有助於規範學生的作息。然而,我們必須考慮到學生的身心健康。過早起床和長時間的自習,會對學生的睡眠、營養和運動等方面造成不利影響,從而影響他們的身心發展。我們應該為學生提供更加合理的作息安排,確保他們有足夠的休息和娛樂時間。\\n\\n綜上所述,早自習制度並不能真正提高學習效果,反而可能對學生的身心健康造成負面影響。因此,我們堅持廢除早自習制度,為學生創造更加健康、快樂的學習環境。\\nHuman: 兩位參賽者進行辯論比賽，今天的討論議題是支不支持廢除早自習?\\n正方：支持廢除早自習\\n反方：反對廢除早自習\\n\\n作為正方，請堅守支持廢除早自習的立場，並簡明扼要地陳述正方的意見和理由。\\n正方:\\n: 作為正方,我們堅持支持廢除早自習的立場,並提出以下幾點理由:\\n\\n1. 早自習對學生的身心健康造成負擔。長時間的自習會增加學生的壓力和焦慮,影響他們的睡眠和休息,從而影響身心發展。我們應該給學生更多的自由時間,讓他們有機會參與其他有益的活動,如運動、興趣小組等,以促進全面發展。\\n\\n2. 早自習並非最有效的學習方式。學生在早自習時往往缺乏老師的指導和互動,很難保證學習效果。相反,上課時老師的講解和課堂討論更有助於知識的吸收和理解。我們應該把有限的時間用在更有價值的教學活動上。\\n\\n3. 早自習會加重學生的學習負擔。學生在上課、完成作業、參加課外活動之外,還要花大量時間在早自習上,這對他們來說是一種過度的要求。我們應該減輕學生的學習壓力,讓他們有更多時間休息和娛樂。\\n\\n4. 早自習並非所有學生都需要。不同學生的學習能力和需求各不相同,強制性的早自習並不能照顧到每個學生的個別差異。我們應該根據學生的實際情況,採取更靈活的教學方式。\\n\\n綜上所述,我們認為廢除早自習是一個明智的決定,能夠更好地促進學生的全面發展。我們呼籲大家支持這一改革,共同為學生創造更好的學習環境。\\nHuman: 作為反方，請堅守反對廢除早自習的立場，簡明扼要地陳述你的意見和理由。\\n反方:\\n: 作為反方,我堅持反對廢除早自習的立場,並簡明扼要地陳述我的意見和理由:\\n\\n1. 早自習有助於培養學生的自主學習能力。在早自習時段,學生可以自主安排學習時間,選擇自己感興趣的內容進行預習和複習。這種自主學習的過程,有助於培養學生的自我管理能力、時間管理能力和主動學習的習慣,為他們未來的學習和工作奠定良好的基礎。\\n\\n2. 早自習有助於提高學習效率。在早晨大腦活動較為活躍的時段進行學習,可以提高學生的集中力和記憶力,使他們能夠更好地吸收和理解知識。相比之下,在下午或晚上進行學習,學生可能會因疲勞而影響學習效果。\\n\\n3. 早自習有助於養成良好的作息習慣。規律的早自習時間能夠幫助學生養成早睡早起的良好作息習慣,從而保證充足的睡眠時間,有利於身心健康的發展。相反,如果取消早自習,學生可能會延遲起床時間,影響作息,最終也會對身心健康造成不利影響。\\n\\n總之,早自習是一個良好的教育實踐,有助於培養學生的自主學習能力、提高學習效率,並養成良好的作息習慣。因此,我堅決反對廢除早自習制度。'}\n",
      "作為支持廢除早自習的一方,我們理解反對方的論點,但我們認為早自習並不能真正培養學生的自主學習能力,反而可能產生一些負面影響。讓我們一一回應反對方的論點:\n",
      "\n",
      "首先,反對方認為早自習可以培養學生的自學能力。但事實上,早自習時間往往被學校用來安排一些強制性的補習或預習任務,學生缺乏自主選擇的空間。這種被動的學習模式,反而不利於培養學生的主動性和自主學習能力。\n",
      "\n",
      "其次,反對方認為早自習可以提高學習效率。但長時間的早自習,可能會導致學生疲勞,影響上課時的專注力和學習效果。相反,如果學校能夠合理安排作息,給學生充足的睡眠時間,反而能夠提高整體的學習效率。\n",
      "\n",
      "最後,反對方認為早自習有助於培養良好的學習習慣。但我們認為,良好的學習習慣應該建立在學生自主、主動的基礎之上,而不是被動地接受早自習。學校應該鼓勵學生養成良好的作息,自主安排學習時間,而不是強制性地要求早自習。\n",
      "\n",
      "綜上所述,我們認為早自習並不能真正達到反對方所述的目的,反而可能產生一些負面影響。因此,我們堅持支持廢除早自習,讓學生擁有更多自主學習的空間和時間。\n",
      "Message sent successfully.\n",
      "作為反方,我理解正方所提出的關切,但我仍堅持保留早自習制度的立場。以下是我的論點:\n",
      "\n",
      "1. 自主學習能力的培養:早自習不僅能培養學生的自主學習能力,更能培養他們的時間管理、自我調節等重要技能。這些能力對於學生未來的學習和發展至關重要。\n",
      "\n",
      "2. 學習效率的提升:早自習為學生提供了一個集中精力、高效學習的時間段。相比於分散精力的自習,早自習能更好地幫助學生掌握知識,提高學習效率。\n",
      "\n",
      "3. 良好學習習慣的養成:早自習能培養學生養成良好的學習習慣,如按時完成作業、主動預習等。這些習慣對於學生終生學習至關重要。\n",
      "\n",
      "4. 身心健康的保障:我們理解正方擔心早自習會影響學生的身心健康。但事實上,適度的早自習可以幫助學生更好地管理時間,減輕學習壓力,從而維護身心健康。\n",
      "\n",
      "5. 教學質量的提升:早自習為教師提供了更多的課堂互動時間,有利於教師更好地了解學生的學習情況,調整教學方法,提高教學質量。\n",
      "\n",
      "總之,早自習制度對於培養學生的自主學習能力、提高學習效率、養成良好習慣,以及保障身心健康等方面都有重要作用。我們應該保留並完善這一制度,而不是簡單地廢除。\n",
      "End\n"
     ]
    }
   ],
   "source": [
    "import time\n",
    "\n",
    "local_match_progress = 0\n",
    "first = True\n",
    "\n",
    "while True:\n",
    "\n",
    "    match = manager.get_current_match()\n",
    "\n",
    "    # init \n",
    "    if local_match_progress == 0 and first:\n",
    "        # respond\n",
    "        current_input = inputs[local_match_progress]\n",
    "        response = full_chain.invoke(current_input)\n",
    "        answer = response.get(\"answer\")\n",
    "        \n",
    "        # save \n",
    "        print(answer)\n",
    "        memory.save_context(current_input, {\"output\": answer})\n",
    "        local_match_progress += 1\n",
    "        \n",
    "        if (local_match_progress == 4):\n",
    "            print(\"End\")\n",
    "            break\n",
    "\n",
    "        # push\n",
    "        manager.send_message(answer)\n",
    "\n",
    "    # lag behind remote history: sync with server\n",
    "    if local_match_progress < len(match.history_msgs):\n",
    "        assert local_match_progress == len(match.history_msgs) - 1\n",
    "\n",
    "        # pull\n",
    "        new_messages = match.history_msgs[local_match_progress]\n",
    "        print(new_messages.text)\n",
    "\n",
    "        # save\n",
    "        current_input = inputs[local_match_progress]\n",
    "        memory.save_context(current_input, {\"output\": new_messages.text})\n",
    "        local_match_progress += 1\n",
    "\n",
    "        if (local_match_progress == 4):\n",
    "            print(\"End\")\n",
    "            break\n",
    "        \n",
    "        # respond\n",
    "        current_input = inputs[local_match_progress]\n",
    "        response = full_chain.invoke(current_input)\n",
    "        answer = response.get(\"answer\")\n",
    "\n",
    "        # save \n",
    "        print(answer)\n",
    "        memory.save_context(current_input, {\"output\": answer})\n",
    "        local_match_progress += 1\n",
    "\n",
    "        # push\n",
    "        manager.send_message(answer)\n",
    "\n",
    "        if (local_match_progress == 4):\n",
    "            print(\"End\")\n",
    "            break\n",
    "\n",
    "    time.sleep(5)\n",
    "    "
   ]
  },
  {
   "cell_type": "code",
   "execution_count": null,
   "metadata": {},
   "outputs": [],
   "source": [
    "inputs = {\"input\": \n",
    "\"\"\"兩位參賽者進行辯論比賽，今天的討論議題是支不支持廢除早自習?\n",
    "正方：支持廢除早自習\n",
    "反方：反對廢除早自習\n",
    "\n",
    "作為正方，請堅守支持廢除早自習的立場，並簡明扼要地陳述正方的意見和理由。\n",
    "正方:\"\"\"}\n",
    "response = full_chain.invoke(inputs)\n",
    "print(response.get(\"answer\"))\n",
    "memory.save_context(inputs, {\"output\": response.get(\"answer\")})"
   ]
  },
  {
   "cell_type": "code",
   "execution_count": null,
   "metadata": {},
   "outputs": [],
   "source": [
    "inputs = {\"input\": \n",
    "\"\"\"作為反方，請堅守反對廢除早自習的立場，簡明扼要地陳述你的意見和理由。\n",
    "反方:\"\"\"\n",
    "}\n",
    "response = full_chain.invoke(inputs)\n",
    "print(response.get(\"answer\"))\n",
    "memory.save_context(inputs, {\"output\": response.get(\"answer\")})"
   ]
  },
  {
   "cell_type": "code",
   "execution_count": null,
   "metadata": {},
   "outputs": [],
   "source": [
    "inputs = {\"input\": \n",
    "\"\"\"作為正方，請堅守支持廢除早自習的立場。請針對反對方所發表的意見，進行反駁。\n",
    "正方:\"\"\"}\n",
    "response = full_chain.invoke(inputs)\n",
    "print(response.get(\"answer\"))\n",
    "memory.save_context(inputs, {\"output\": response.get(\"answer\")})"
   ]
  },
  {
   "cell_type": "code",
   "execution_count": null,
   "metadata": {},
   "outputs": [],
   "source": [
    "inputs = {\"input\": \n",
    "\"\"\"作為反方，請堅守反對廢除早自習的立場。請針對正方所發表的意見，進行反駁。\n",
    "反方:\"\"\"}\n",
    "response = full_chain.invoke(inputs)\n",
    "print(response.get(\"answer\"))\n",
    "memory.save_context(inputs, {\"output\": response.get(\"answer\")})"
   ]
  },
  {
   "cell_type": "markdown",
   "metadata": {},
   "source": [
    "## Plot"
   ]
  },
  {
   "cell_type": "code",
   "execution_count": null,
   "metadata": {},
   "outputs": [],
   "source": [
    "full_chain.get_graph().print_ascii()"
   ]
  }
 ],
 "metadata": {
  "kernelspec": {
   "display_name": ".venv",
   "language": "python",
   "name": "python3"
  },
  "language_info": {
   "codemirror_mode": {
    "name": "ipython",
    "version": 3
   },
   "file_extension": ".py",
   "mimetype": "text/x-python",
   "name": "python",
   "nbconvert_exporter": "python",
   "pygments_lexer": "ipython3",
   "version": "3.10.13"
  }
 },
 "nbformat": 4,
 "nbformat_minor": 2
}
