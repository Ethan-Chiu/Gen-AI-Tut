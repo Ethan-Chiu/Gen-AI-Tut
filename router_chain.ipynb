{
 "cells": [
  {
   "cell_type": "code",
   "execution_count": 1,
   "metadata": {},
   "outputs": [
    {
     "data": {
      "text/plain": [
       "True"
      ]
     },
     "execution_count": 1,
     "metadata": {},
     "output_type": "execute_result"
    }
   ],
   "source": [
    "# import os\n",
    "# os.environ[\"GOOGLE_API_KEY\"] = ''\n",
    "# os.environ[\"LANGCHAIN_TRACING_V2\"] = \"\"\n",
    "# os.environ[\"LANGCHAIN_API_KEY\"]=\"\"\n",
    "\n",
    "from dotenv import load_dotenv\n",
    "load_dotenv()"
   ]
  },
  {
   "cell_type": "markdown",
   "metadata": {},
   "source": [
    "## Prompts"
   ]
  },
  {
   "cell_type": "code",
   "execution_count": 2,
   "metadata": {},
   "outputs": [],
   "source": [
    "physics_template = \"\"\"You are a very smart physics professor. \\\n",
    "You are great at answering questions about physics in a concise\\\n",
    "and easy to understand manner. \\\n",
    "When you don't know the answer to a question you admit\\\n",
    "that you don't know.\n",
    "\n",
    "Answer the following question based only on the provided context:\n",
    "\n",
    "<context>\n",
    "{context}\n",
    "</context>\n",
    "\n",
    "Here is a question:\n",
    "{input}\"\"\"\n",
    "\n",
    "\n",
    "math_template = \"\"\"You are a very good mathematician. \\\n",
    "You are great at answering math questions. \\\n",
    "You are so good because you are able to break down \\\n",
    "hard problems into their component parts, \n",
    "answer the component parts, and then put them together\\\n",
    "to answer the broader question.\n",
    "\n",
    "Answer the following question based only on the provided context:\n",
    "\n",
    "<context>\n",
    "{context}\n",
    "</context>\n",
    "\n",
    "\n",
    "Here is a question:\n",
    "{input}\"\"\"\n",
    "\n",
    "history_template = \"\"\"You are a very good historian. \\\n",
    "You have an excellent knowledge of and understanding of people,\\\n",
    "events and contexts from a range of historical periods. \\\n",
    "You have the ability to think, reflect, debate, discuss and \\\n",
    "evaluate the past. You have a respect for historical evidence\\\n",
    "and the ability to make use of it to support your explanations \\\n",
    "and judgements.\n",
    "\n",
    "Answer the following question based only on the provided context:\n",
    "\n",
    "<context>\n",
    "{context}\n",
    "</context>\n",
    "\n",
    "Here is a question:\n",
    "{input}\"\"\"\n",
    "\n",
    "\n",
    "computerscience_template = \"\"\" You are a successful computer scientist.\\\n",
    "You have a passion for creativity, collaboration,\\\n",
    "forward-thinking, confidence, strong problem-solving capabilities,\\\n",
    "understanding of theories and algorithms, and excellent communication \\\n",
    "skills. You are great at answering coding questions. \\\n",
    "You are so good because you know how to solve a problem by \\\n",
    "describing the solution in imperative steps \\\n",
    "that a machine can easily interpret and you know how to \\\n",
    "choose a solution that has a good balance between \\\n",
    "time complexity and space complexity. \n",
    "\n",
    "Answer the following question based only on the provided context:\n",
    "\n",
    "<context>\n",
    "{context}\n",
    "</context>\n",
    "\n",
    "Here is a question:\n",
    "{input}\"\"\""
   ]
  },
  {
   "cell_type": "code",
   "execution_count": 3,
   "metadata": {},
   "outputs": [],
   "source": [
    "prompt_infos = [\n",
    "{\n",
    "    \"name\": \"physics\", \n",
    "    \"description\": \"Good for answering questions about physics\", \n",
    "    \"prompt_template\": physics_template,\n",
    "},\n",
    "{\n",
    "    \"name\": \"math\", \n",
    "    \"description\": \"Good for answering math questions\", \n",
    "    \"prompt_template\": math_template\n",
    "},\n",
    "{\n",
    "    \"name\": \"History\", \n",
    "    \"description\": \"Good for answering history questions\", \n",
    "    \"prompt_template\": history_template\n",
    "},\n",
    "{\n",
    "    \"name\": \"computer science\", \n",
    "    \"description\": \"Good for answering computer science questions\", \n",
    "    \"prompt_template\": computerscience_template\n",
    "}]"
   ]
  },
  {
   "cell_type": "code",
   "execution_count": 4,
   "metadata": {},
   "outputs": [],
   "source": [
    "MULTI_PROMPT_ROUTER_TEMPLATE = \"\"\"Given a raw text input to a \\\n",
    "language model select the model prompt best suited for the input. \\\n",
    "You will be given the names of the available prompts and a \\\n",
    "description of what the prompt is best suited for. \\\n",
    "You may also revise the original input if you think that revising\\\n",
    "it will ultimately lead to a better response from the language model.\n",
    "\n",
    "<< FORMATTING >>\n",
    "Return a markdown code snippet with a JSON object formatted to look like:\n",
    "\n",
    "\\```json\n",
    "{{{{\n",
    "    \"destination\": string \\ name of the prompt to use or \"DEFAULT\"\n",
    "    \"next_inputs\": string \\ a potentially modified version of the original input\n",
    "}}}}\n",
    "\\```\n",
    "\n",
    "REMEMBER: \"destination\" MUST be one of the candidate prompt \\\n",
    "names specified below OR it can be \"DEFAULT\" if the input is not\\\n",
    "well suited for any of the candidate prompts.\n",
    "REMEMBER: \"next_inputs\" can just be the original input \\\n",
    "if you don't think any modifications are needed.\n",
    "\n",
    "<< CANDIDATE PROMPTS >>\n",
    "{destinations}\n",
    "\n",
    "<< INPUT >>\n",
    "{{input}}\n",
    "\n",
    "<< OUTPUT (remember to include the ```json)>>\"\"\""
   ]
  },
  {
   "cell_type": "markdown",
   "metadata": {},
   "source": [
    "## LLM"
   ]
  },
  {
   "cell_type": "code",
   "execution_count": 5,
   "metadata": {},
   "outputs": [
    {
     "name": "stderr",
     "output_type": "stream",
     "text": [
      "c:\\Users\\ethan\\miniconda3\\envs\\genai-course\\lib\\site-packages\\tqdm\\auto.py:21: TqdmWarning: IProgress not found. Please update jupyter and ipywidgets. See https://ipywidgets.readthedocs.io/en/stable/user_install.html\n",
      "  from .autonotebook import tqdm as notebook_tqdm\n"
     ]
    }
   ],
   "source": [
    "from langchain_google_genai import ChatGoogleGenerativeAI\n",
    "\n",
    "llm = ChatGoogleGenerativeAI(temperature=0, model=\"gemini-pro\")"
   ]
  },
  {
   "cell_type": "markdown",
   "metadata": {},
   "source": [
    "## Document"
   ]
  },
  {
   "cell_type": "code",
   "execution_count": 6,
   "metadata": {},
   "outputs": [],
   "source": [
    "from langchain_community.document_loaders import WebBaseLoader\n",
    "from langchain_text_splitters import RecursiveCharacterTextSplitter\n",
    "from langchain_community.vectorstores import Chroma\n",
    "from langchain_community.embeddings.sentence_transformer import (\n",
    "    SentenceTransformerEmbeddings,\n",
    ")\n",
    "from langchain.chains.combine_documents import create_stuff_documents_chain\n",
    "from langchain.chains import create_retrieval_chain\n",
    "\n",
    "loader = WebBaseLoader(\"https://docs.smith.langchain.com/user_guide\")\n",
    "docs = loader.load()\n",
    "\n",
    "\n",
    "text_splitter = RecursiveCharacterTextSplitter()\n",
    "documents = text_splitter.split_documents(docs)\n",
    "\n",
    "embedding_function = SentenceTransformerEmbeddings(model_name=\"all-MiniLM-L6-v2\")\n",
    "vector = Chroma.from_documents(documents, embedding_function)"
   ]
  },
  {
   "cell_type": "markdown",
   "metadata": {},
   "source": [
    "## Destinations"
   ]
  },
  {
   "cell_type": "code",
   "execution_count": 7,
   "metadata": {},
   "outputs": [],
   "source": [
    "from langchain.chains.router import MultiPromptChain\n",
    "from langchain.chains.router.llm_router import LLMRouterChain,RouterOutputParser\n",
    "from langchain.prompts import PromptTemplate, ChatPromptTemplate"
   ]
  },
  {
   "cell_type": "code",
   "execution_count": 8,
   "metadata": {},
   "outputs": [],
   "source": [
    "prompt = ChatPromptTemplate.from_template(template=physics_template)\n",
    "\n",
    "document_chain = create_stuff_documents_chain(llm, prompt)\n",
    "retriever = vector.as_retriever()\n",
    "\n",
    "physic_chain = create_retrieval_chain(retriever, document_chain)"
   ]
  },
  {
   "cell_type": "code",
   "execution_count": 9,
   "metadata": {},
   "outputs": [],
   "source": [
    "prompt = ChatPromptTemplate.from_template(template=computerscience_template)\n",
    "\n",
    "document_chain = create_stuff_documents_chain(llm, prompt)\n",
    "retriever = vector.as_retriever()\n",
    "\n",
    "computerscience_chain = create_retrieval_chain(retriever, document_chain)"
   ]
  },
  {
   "cell_type": "code",
   "execution_count": 10,
   "metadata": {},
   "outputs": [],
   "source": [
    "general_chain = (\n",
    "    ChatPromptTemplate.from_template(\"{input}\") | llm\n",
    ")"
   ]
  },
  {
   "cell_type": "markdown",
   "metadata": {},
   "source": [
    "## Route to Destination"
   ]
  },
  {
   "cell_type": "code",
   "execution_count": 11,
   "metadata": {},
   "outputs": [],
   "source": [
    "def route(info):\n",
    "    print(info)\n",
    "    if info[\"destination\"]:\n",
    "        if \"physics\" in info[\"destination\"].lower():\n",
    "            return physic_chain\n",
    "        elif \"computer science\" in info[\"destination\"].lower():\n",
    "            return computerscience_chain\n",
    "    else:\n",
    "        return general_chain"
   ]
  },
  {
   "cell_type": "code",
   "execution_count": 12,
   "metadata": {},
   "outputs": [],
   "source": [
    "destinations = [f\"{p['name']}: {p['description']}\" for p in prompt_infos]\n",
    "destinations_str = \"\\n\".join(destinations)\n",
    "\n",
    "# destinations\n",
    "# ['physics: Good for answering questions about physics',\n",
    "#  'math: Good for answering math questions',\n",
    "#  'History: Good for answering history questions',\n",
    "#  'computer science: Good for answering computer science questions']\n",
    "\n",
    "router_template = MULTI_PROMPT_ROUTER_TEMPLATE.format(\n",
    "    destinations=destinations_str\n",
    ")\n",
    "\n",
    "router_prompt = PromptTemplate(\n",
    "    template=router_template,\n",
    "    input_variables=[\"input\"],\n",
    ")"
   ]
  },
  {
   "cell_type": "markdown",
   "metadata": {},
   "source": [
    "## Memory "
   ]
  },
  {
   "cell_type": "code",
   "execution_count": 13,
   "metadata": {},
   "outputs": [
    {
     "data": {
      "text/plain": [
       "{'history': []}"
      ]
     },
     "execution_count": 13,
     "metadata": {},
     "output_type": "execute_result"
    }
   ],
   "source": [
    "from langchain.memory import ConversationBufferMemory\n",
    "from langchain_core.prompts import MessagesPlaceholder\n",
    "\n",
    "memory = ConversationBufferMemory(return_messages=True)\n",
    "memory.load_memory_variables({})"
   ]
  },
  {
   "cell_type": "code",
   "execution_count": null,
   "metadata": {},
   "outputs": [],
   "source": []
  },
  {
   "cell_type": "markdown",
   "metadata": {},
   "source": [
    "## Build Chain"
   ]
  },
  {
   "cell_type": "code",
   "execution_count": 14,
   "metadata": {},
   "outputs": [],
   "source": [
    "chain = (router_prompt | llm | RouterOutputParser())"
   ]
  },
  {
   "cell_type": "code",
   "execution_count": 15,
   "metadata": {},
   "outputs": [],
   "source": [
    "from langchain_core.runnables import RunnableLambda\n",
    "from operator import itemgetter\n",
    "\n",
    "full_chain = chain | {\"destination\": itemgetter(\"destination\"), \"input\": lambda x: x[\"next_inputs\"]['input']} | RunnableLambda(\n",
    "    route\n",
    ")"
   ]
  },
  {
   "cell_type": "markdown",
   "metadata": {},
   "source": [
    "## Usage"
   ]
  },
  {
   "cell_type": "code",
   "execution_count": 16,
   "metadata": {},
   "outputs": [
    {
     "name": "stdout",
     "output_type": "stream",
     "text": [
      "{'destination': None, 'input': 'how can langsmith help with testing?'}\n",
      "content='**Langsmith** is a natural language processing (NLP) platform that can assist with testing in several ways:\\n\\n**1. Test Case Generation:**\\n\\n* Langsmith can analyze user stories and requirements to automatically generate test cases in natural language.\\n* This helps testers create comprehensive test cases that cover various scenarios and edge cases.\\n\\n**2. Test Case Prioritization:**\\n\\n* Langsmith can prioritize test cases based on their importance and risk.\\n* This enables testers to focus on the most critical test cases first, ensuring efficient testing.\\n\\n**3. Test Case Execution:**\\n\\n* Langsmith can integrate with test automation tools to execute test cases in natural language.\\n* This simplifies test execution and reduces the need for manual intervention.\\n\\n**4. Test Result Analysis:**\\n\\n* Langsmith can analyze test results and identify patterns or anomalies.\\n* This helps testers quickly identify failed tests and investigate the underlying causes.\\n\\n**5. Test Report Generation:**\\n\\n* Langsmith can generate test reports in natural language, summarizing test results and providing insights.\\n* This makes it easy for stakeholders to understand the testing process and outcomes.\\n\\n**6. Test Data Management:**\\n\\n* Langsmith can help manage test data by extracting relevant information from user stories and requirements.\\n* This ensures that test data is accurate and consistent, reducing the risk of false positives.\\n\\n**7. Test Automation:**\\n\\n* Langsmith can generate code for test automation frameworks, such as Selenium and Cypress.\\n* This simplifies the automation process and enables testers to create robust and maintainable test scripts.\\n\\n**8. Collaboration and Communication:**\\n\\n* Langsmith provides a platform for testers to collaborate and communicate with each other.\\n* This facilitates knowledge sharing, reduces duplication of effort, and improves overall testing efficiency.\\n\\n**Benefits of Using Langsmith for Testing:**\\n\\n* **Improved Test Coverage:** Automates test case generation, ensuring comprehensive testing.\\n* **Increased Efficiency:** Simplifies test execution and analysis, saving time and effort.\\n* **Enhanced Accuracy:** Reduces the risk of false positives by providing accurate test data.\\n* **Improved Collaboration:** Facilitates communication and knowledge sharing among testers.\\n* **Reduced Costs:** Automates tasks and improves efficiency, leading to cost savings.' response_metadata={'prompt_feedback': {'safety_ratings': [{'category': 9, 'probability': 1, 'blocked': False}, {'category': 8, 'probability': 1, 'blocked': False}, {'category': 7, 'probability': 1, 'blocked': False}, {'category': 10, 'probability': 1, 'blocked': False}], 'block_reason': 0}, 'finish_reason': 'STOP', 'safety_ratings': [{'category': 'HARM_CATEGORY_SEXUALLY_EXPLICIT', 'probability': 'NEGLIGIBLE', 'blocked': False}, {'category': 'HARM_CATEGORY_HATE_SPEECH', 'probability': 'NEGLIGIBLE', 'blocked': False}, {'category': 'HARM_CATEGORY_HARASSMENT', 'probability': 'NEGLIGIBLE', 'blocked': False}, {'category': 'HARM_CATEGORY_DANGEROUS_CONTENT', 'probability': 'NEGLIGIBLE', 'blocked': False}]}\n"
     ]
    }
   ],
   "source": [
    "response = full_chain.invoke({\"input\": \"how can langsmith help with testing?\"})\n",
    "print(response)"
   ]
  },
  {
   "cell_type": "code",
   "execution_count": 52,
   "metadata": {},
   "outputs": [
    {
     "name": "stdout",
     "output_type": "stream",
     "text": [
      "               +-------------+                 \n",
      "               | PromptInput |                 \n",
      "               +-------------+                 \n",
      "                      *                        \n",
      "                      *                        \n",
      "                      *                        \n",
      "              +----------------+               \n",
      "              | PromptTemplate |               \n",
      "              +----------------+               \n",
      "                      *                        \n",
      "                      *                        \n",
      "                      *                        \n",
      "          +------------------------+           \n",
      "          | ChatGoogleGenerativeAI |           \n",
      "          +------------------------+           \n",
      "                      *                        \n",
      "                      *                        \n",
      "                      *                        \n",
      "            +--------------------+             \n",
      "            | RouterOutputParser |             \n",
      "            +--------------------+             \n",
      "                      *                        \n",
      "                      *                        \n",
      "                      *                        \n",
      "    +----------------------------------+       \n",
      "    | Parallel<destination,input>Input |       \n",
      "    +----------------------------------+       \n",
      "              ***            ***               \n",
      "            **                  **             \n",
      "          **                      **           \n",
      "+-------------+               +-------------+  \n",
      "| Lambda(...) |               | Lambda(...) |  \n",
      "+-------------+               +-------------+  \n",
      "              ***            ***               \n",
      "                 **        **                  \n",
      "                   **    **                    \n",
      "    +-----------------------------------+      \n",
      "    | Parallel<destination,input>Output |      \n",
      "    +-----------------------------------+      \n",
      "                      *                        \n",
      "                      *                        \n",
      "                      *                        \n",
      "              +---------------+                \n",
      "              | Lambda(route) |                \n",
      "              +---------------+                \n",
      "                      *                        \n",
      "                      *                        \n",
      "                      *                        \n",
      "              +--------------+                 \n",
      "              | route_output |                 \n",
      "              +--------------+                 \n"
     ]
    }
   ],
   "source": [
    "full_chain.get_graph().print_ascii()"
   ]
  }
 ],
 "metadata": {
  "kernelspec": {
   "display_name": ".venv",
   "language": "python",
   "name": "python3"
  },
  "language_info": {
   "codemirror_mode": {
    "name": "ipython",
    "version": 3
   },
   "file_extension": ".py",
   "mimetype": "text/x-python",
   "name": "python",
   "nbconvert_exporter": "python",
   "pygments_lexer": "ipython3",
   "version": "3.10.13"
  }
 },
 "nbformat": 4,
 "nbformat_minor": 2
}
