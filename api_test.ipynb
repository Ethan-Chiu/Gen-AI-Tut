{
 "cells": [
  {
   "cell_type": "code",
   "execution_count": null,
   "metadata": {},
   "outputs": [],
   "source": [
    "from api.server import Server\n",
    "from api.manager import Manager\n",
    "from api.models.match import Match\n",
    "\n",
    "server = Server(\"http://localhost:3000\", \"d8f8bc5e-4176-468c-8d78-5fdd73a50fe5\")\n",
    "\n",
    "server.get_match_inst(id=1, order=0)"
   ]
  },
  {
   "cell_type": "code",
   "execution_count": null,
   "metadata": {},
   "outputs": [],
   "source": [
    "manager = Manager(server)\n",
    "\n",
    "matches = manager.get_match_list()\n",
    "for match in matches:\n",
    "    print(match)\n",
    "\n",
    "current_match_id = matches[0].id\n",
    "if len(matches) != 1:\n",
    "    current_match_id = input(\"Enter the ID of the match you want to join: \")\n",
    "manager.set_current_match(current_match_id)\n",
    "\n",
    "info = manager.get_match_info()\n",
    "print(info)\n",
    "\n",
    "current_input = manager.get_inst(0)\n",
    "print(\"current input\", current_input)"
   ]
  },
  {
   "cell_type": "code",
   "execution_count": 1,
   "metadata": {},
   "outputs": [
    {
     "name": "stdout",
     "output_type": "stream",
     "text": [
      "Your match testgame is graded\n",
      "You win!\n",
      "You got 3 point\n",
      "\n",
      "\n",
      "Grading info:\n",
      "Good. very good!!\n",
      "--------------------------------------------------------------------------------\n",
      "\n",
      "\n"
     ]
    }
   ],
   "source": [
    "from api.server import Server\n",
    "from api.game import show_result\n",
    "\n",
    "server = Server(\"http://localhost:3000\", \"d8f8bc5e-4176-468c-8d78-5fdd73a50fe5\")\n",
    "show_result(server)"
   ]
  }
 ],
 "metadata": {
  "kernelspec": {
   "display_name": "genai-course",
   "language": "python",
   "name": "python3"
  },
  "language_info": {
   "codemirror_mode": {
    "name": "ipython",
    "version": 3
   },
   "file_extension": ".py",
   "mimetype": "text/x-python",
   "name": "python",
   "nbconvert_exporter": "python",
   "pygments_lexer": "ipython3",
   "version": "3.10.13"
  }
 },
 "nbformat": 4,
 "nbformat_minor": 2
}
