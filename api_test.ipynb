{
 "cells": [
  {
   "cell_type": "code",
   "execution_count": null,
   "metadata": {},
   "outputs": [],
   "source": [
    "from api.server import Server\n",
    "from api.manager import Manager\n",
    "from api.models.match import Match\n",
    "\n",
    "server = Server(\"http://localhost:3000\", \"0929b6b4-1657-41db-a109-c33bc23abbb0\")\n",
    "\n",
    "manager = Manager(server)\n",
    "\n",
    "print(\"all matches:\")\n",
    "matches = manager.get_match_list()\n",
    "for match in matches:\n",
    "    print(match)\n",
    "print(\"-\" * 80)\n",
    "\n",
    "manager.set_current_match(1)\n",
    "\n",
    "print(\"current match:\")\n",
    "match = manager.get_current_match()\n",
    "print(match)\n",
    "print(\"-\" * 80)\n",
    "\n",
    "for msg in match.history_msgs:\n",
    "    print(msg)\n",
    "print(\"-\" * 80)\n",
    "\n",
    "manager.send_message(\"New messages\")\n",
    "\n",
    "match = manager.get_current_match()\n",
    "for msg in match.history_msgs:\n",
    "    print(msg)\n",
    "print(\"-\" * 80)"
   ]
  }
 ],
 "metadata": {
  "kernelspec": {
   "display_name": "genai-course",
   "language": "python",
   "name": "python3"
  },
  "language_info": {
   "codemirror_mode": {
    "name": "ipython",
    "version": 3
   },
   "file_extension": ".py",
   "mimetype": "text/x-python",
   "name": "python",
   "nbconvert_exporter": "python",
   "pygments_lexer": "ipython3",
   "version": "3.10.13"
  }
 },
 "nbformat": 4,
 "nbformat_minor": 2
}
