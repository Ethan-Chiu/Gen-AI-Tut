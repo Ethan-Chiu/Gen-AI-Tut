{
 "cells": [
  {
   "cell_type": "code",
   "execution_count": 1,
   "metadata": {},
   "outputs": [
    {
     "data": {
      "text/plain": [
       "{'input': 'start'}"
      ]
     },
     "execution_count": 1,
     "metadata": {},
     "output_type": "execute_result"
    }
   ],
   "source": [
    "from api.server import Server\n",
    "from api.manager import Manager\n",
    "from api.models.match import Match\n",
    "\n",
    "server = Server(\"http://localhost:3000\", \"d8f8bc5e-4176-468c-8d78-5fdd73a50fe5\")\n",
    "\n",
    "server.get_match_inst(id=1, order=0)"
   ]
  },
  {
   "cell_type": "code",
   "execution_count": 2,
   "metadata": {},
   "outputs": [
    {
     "name": "stdout",
     "output_type": "stream",
     "text": [
      "Match ID: 1, Name: testgame, Topic ID: 1, Players: [], History Messages: []\n",
      "Match ID: 1, Name: 1, Topic ID: testgame, Players: [<api.models.player.Player object at 0x000002A53811CF40>, <api.models.player.Player object at 0x000002A538343610>], Topic: Topic ID: 1, Description: test, Is First: True\n",
      "current input start\n"
     ]
    }
   ],
   "source": [
    "manager = Manager(server)\n",
    "\n",
    "matches = manager.get_match_list()\n",
    "for match in matches:\n",
    "    print(match)\n",
    "\n",
    "current_match_id = matches[0].id\n",
    "if len(matches) != 1:\n",
    "    current_match_id = input(\"Enter the ID of the match you want to join: \")\n",
    "manager.set_current_match(current_match_id)\n",
    "\n",
    "info = manager.get_match_info()\n",
    "print(info)\n",
    "\n",
    "current_input = manager.get_inst(0)\n",
    "print(\"current input\", current_input)"
   ]
  }
 ],
 "metadata": {
  "kernelspec": {
   "display_name": "genai-course",
   "language": "python",
   "name": "python3"
  },
  "language_info": {
   "codemirror_mode": {
    "name": "ipython",
    "version": 3
   },
   "file_extension": ".py",
   "mimetype": "text/x-python",
   "name": "python",
   "nbconvert_exporter": "python",
   "pygments_lexer": "ipython3",
   "version": "3.10.13"
  }
 },
 "nbformat": 4,
 "nbformat_minor": 2
}
